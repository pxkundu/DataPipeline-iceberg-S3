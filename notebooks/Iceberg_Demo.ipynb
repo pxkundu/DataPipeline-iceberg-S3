{
 "cells": [
  {
   "cell_type": "markdown",
   "metadata": {},
   "source": [
    "## Apache Iceberg Demo\n",
    "### Querying Iceberg Tables in Athena"
   ]
  },
  {
   "cell_type": "code",
   "execution_count": null,
   "metadata": {},
   "outputs": [],
   "source": [
    "import boto3\n",
    "client = boto3.client('athena')\n",
    "query = \"SELECT * FROM iceberg_db.sales_data;\"\n",
    "response = client.start_query_execution(\n",
    "    QueryString=query,\n",
    "    QueryExecutionContext={\"Database\": \"iceberg_db\"},\n",
    "    ResultConfiguration={\"OutputLocation\": \"s3://my-iceberg-data-lake/query-results/\"}\n",
    ")\n",
    "print(\"Query executed! Check S3 for results.\")"
   ]
  }
 ],
 "metadata": {},
 "nbformat": 4,
 "nbformat_minor": 4
}
